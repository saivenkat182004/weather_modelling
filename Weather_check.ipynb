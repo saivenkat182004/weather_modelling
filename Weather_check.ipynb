{
  "cells": [
    {
      "cell_type": "markdown",
      "metadata": {
        "id": "view-in-github",
        "colab_type": "text"
      },
      "source": [
        "<a href=\"https://colab.research.google.com/github/saivenkat182004/weather_modelling/blob/main/Weather_check.ipynb\" target=\"_parent\"><img src=\"https://colab.research.google.com/assets/colab-badge.svg\" alt=\"Open In Colab\"/></a>"
      ]
    },
    {
      "cell_type": "markdown",
      "metadata": {
        "id": "O0HGBrhFUahL"
      },
      "source": [
        "EXPERIMENT:1\n",
        "Implement weather modeling* using the quadratic solution in stages: hard-coding variables keyboard input, read\n",
        "from a file, for a single set of input, multiple sets of inputs.\n",
        "a. save all versions, debug, fix problems, create a Github account"
      ]
    },
    {
      "cell_type": "code",
      "source": [],
      "metadata": {
        "id": "svlxXYIdrk9X"
      },
      "execution_count": null,
      "outputs": []
    },
    {
      "cell_type": "code",
      "execution_count": null,
      "metadata": {
        "colab": {
          "base_uri": "https://localhost:8080/"
        },
        "id": "g-cLdXZbUKE9",
        "outputId": "5830e08e-59fb-4145-a7e0-46f103d8986c"
      },
      "outputs": [
        {
          "name": "stdout",
          "output_type": "stream",
          "text": [
            "Enter Temperature (°C): 30\n",
            "Enter Wind Speed (km/h): 15\n",
            "Enter Humidity (%): 50\n",
            "Calculated tw (keyboard input): 426.5\n"
          ]
        }
      ],
      "source": [
        "def calculate_tw(t, w, h):\n",
        "    tw = 0.5 * t**2 + 0.1 * w - 0.2 * h - 15\n",
        "    return tw\n",
        "try:\n",
        "    temperature = float(input(\"Enter Temperature (°C): \"))\n",
        "    wind_speed = float(input(\"Enter Wind Speed (km/h): \"))\n",
        "    humidity = float(input(\"Enter Humidity (%): \"))\n",
        "    tw = calculate_tw(temperature, wind_speed, humidity)\n",
        "    print(f\"Calculated tw (keyboard input): {tw}\")\n",
        "except ValueError:\n",
        "    print(\"Invalid input! Please enter numerical values.\")\n"
      ]
    },
    {
      "cell_type": "code",
      "execution_count": null,
      "metadata": {
        "colab": {
          "base_uri": "https://localhost:8080/"
        },
        "id": "t4TURY6WX5gf",
        "outputId": "79cc37af-1bd2-407b-f83a-e2b329c229a9"
      },
      "outputs": [
        {
          "name": "stdout",
          "output_type": "stream",
          "text": [
            "Enter the date (YYYY-MM-DD): 2024-12-06\n",
            "Date: 2024-12-06\n",
            "Temperature: 26°C, Wind Speed: 14 km/h, Humidity: 55%\n",
            "Calculated tw: 313.4\n"
          ]
        }
      ],
      "source": [
        "import pandas as pd\n",
        "from datetime import datetime\n",
        "def calculate_tw(t, w, h):\n",
        "    tw = 0.5 * t**2 + 0.1 * w - 0.2 * h - 15\n",
        "    return tw\n",
        "def calculate_tw_from_excel(file_path, date_str):\n",
        "    try:\n",
        "        df = pd.read_excel(file_path)\n",
        "        df['Date'] = pd.to_datetime(df['Date'], format='%Y-%m-%d')\n",
        "        user_date = datetime.strptime(date_str, '%Y-%m-%d')\n",
        "        row = df[df['Date'] == user_date]\n",
        "\n",
        "        if row.empty:\n",
        "            print(f\"No data found for the date: {date_str}\")\n",
        "            return\n",
        "        temperature = row['Temperature'].iloc[0]\n",
        "        wind_speed = row['Wind Speed'].iloc[0]\n",
        "        humidity = row['Humidity'].iloc[0]\n",
        "        tw = calculate_tw(temperature, wind_speed, humidity)\n",
        "        print(f\"Date: {date_str}\")\n",
        "        print(f\"Temperature: {temperature}°C, Wind Speed: {wind_speed} km/h, Humidity: {humidity}%\")\n",
        "        print(f\"Calculated tw: {tw}\")\n",
        "    except FileNotFoundError:\n",
        "        print(f\"File {file_path} not found.\")\n",
        "    except ValueError as e:\n",
        "        print(f\"Error processing the file: {e}\")\n",
        "def main():\n",
        "    file_path = 'weather.xlsx'\n",
        "    date_str = input(\"Enter the date (YYYY-MM-DD): \")\n",
        "    calculate_tw_from_excel(file_path, date_str)\n",
        "if __name__ == \"__main__\":\n",
        "    main()\n"
      ]
    },
    {
      "cell_type": "code",
      "execution_count": null,
      "metadata": {
        "colab": {
          "base_uri": "https://localhost:8080/"
        },
        "id": "LCbsxVo6cqSx",
        "outputId": "46b8f933-1c06-4c52-9dc5-da0de032a1d0"
      },
      "outputs": [
        {
          "name": "stdout",
          "output_type": "stream",
          "text": [
            "Enter the date (DD-MM-YYYY): 8-12-2024\n",
            "Date: 8-12-2024\n",
            "Temperature: 24°C, Wind Speed: 11 km/h, Humidity: 62%\n",
            "Calculated tw: 261.70000000000005\n",
            "Weather Condition: Cloudy\n"
          ]
        }
      ],
      "source": [
        "import pandas as pd\n",
        "from datetime import datetime\n",
        "\n",
        "def calculate_tw(t, w, h):\n",
        "    tw = 0.5 * t**2 + 0.1 * w - 0.2 * h - 15\n",
        "    return tw\n",
        "\n",
        "def classify_weather(tw):\n",
        "    if tw > 350:\n",
        "        return \"Sunny\"\n",
        "    elif 250 < tw <= 350:\n",
        "        return \"Cloudy\"\n",
        "    elif 150 < tw <= 250:\n",
        "        return \"Rainy\"\n",
        "    else:\n",
        "        return \"Stormy\"\n",
        "\n",
        "def calculate_weather_for_date(file_path, date_str):\n",
        "    try:\n",
        "        df = pd.read_excel(file_path)\n",
        "        df['Date'] = pd.to_datetime(df['Date'], format='%d-%m-%Y')\n",
        "        user_date = datetime.strptime(date_str, '%d-%m-%Y')\n",
        "        row = df[df['Date'] == user_date]\n",
        "\n",
        "        if row.empty:\n",
        "            print(f\"No data found for the date: {date_str}\")\n",
        "            return\n",
        "\n",
        "        temperature = row['Temperature'].iloc[0]\n",
        "        wind_speed = row['Wind Speed'].iloc[0]\n",
        "        humidity = row['Humidity'].iloc[0]\n",
        "        tw = calculate_tw(temperature, wind_speed, humidity)\n",
        "        condition = classify_weather(tw)\n",
        "\n",
        "        print(f\"Date: {date_str}\")\n",
        "        print(f\"Temperature: {temperature}°C, Wind Speed: {wind_speed} km/h, Humidity: {humidity}%\")\n",
        "        print(f\"Calculated tw: {tw}\")\n",
        "        print(f\"Weather Condition: {condition}\")\n",
        "    except FileNotFoundError:\n",
        "        print(f\"File {file_path} not found.\")\n",
        "    except ValueError as e:\n",
        "        print(f\"Error processing the file: {e}\")\n",
        "\n",
        "def main():\n",
        "    file_path = 'weather.xlsx'\n",
        "    date_str = input(\"Enter the date (DD-MM-YYYY): \")\n",
        "    calculate_weather_for_date(file_path, date_str)\n",
        "\n",
        "if __name__ == \"__main__\":\n",
        "    main()\n"
      ]
    },
    {
      "cell_type": "code",
      "execution_count": null,
      "metadata": {
        "colab": {
          "base_uri": "https://localhost:8080/"
        },
        "id": "wBxGoGVAqmM9",
        "outputId": "28eaa01a-c3d7-41f8-e985-2227b38412b0"
      },
      "outputs": [
        {
          "name": "stdout",
          "output_type": "stream",
          "text": [
            "Choose an option:\n",
            "0: Read values from an existing file\n",
            "1: Enter new values to save to the file\n",
            "Enter your choice (0/1): 1\n"
          ]
        }
      ],
      "source": [
        "\n",
        "import pandas as pd\n",
        "from datetime import datetime\n",
        "\n",
        "def calculate_tw(t, w, h):\n",
        "    tw = 0.5 * t**2 + 0.1 * w - 0.2 * h - 15\n",
        "    return tw\n",
        "\n",
        "def classify_weather(tw):\n",
        "    if tw > 350:\n",
        "        return \"Sunny\"\n",
        "    elif 250 < tw <= 350:\n",
        "        return \"Cloudy\"\n",
        "    elif 150 < tw <= 250:\n",
        "        return \"Rainy\"\n",
        "    else:\n",
        "        return \"Stormy\"\n",
        "\n",
        "def read_from_file(file_path, date_str):\n",
        "    try:\n",
        "        df = pd.read_excel(file_path)\n",
        "        df['Date'] = pd.to_datetime(df['Date'], format='%d-%m-%Y')\n",
        "        user_date = datetime.strptime(date_str, '%d-%m-%Y')\n",
        "        row = df[df['Date'] == user_date]\n",
        "\n",
        "        if row.empty:\n",
        "            print(f\"No data found for the date: {date_str}\")\n",
        "            return\n",
        "\n",
        "        temperature = row['Temperature'].iloc[0]\n",
        "        wind_speed = row['Wind Speed'].iloc[0]\n",
        "        humidity = row['Humidity'].iloc[0]\n",
        "        tw = calculate_tw(temperature, wind_speed, humidity)\n",
        "        condition = classify_weather(tw)\n",
        "\n",
        "        print(f\"Date: {date_str}\")\n",
        "        print(f\"Temperature: {temperature}°C, Wind Speed: {wind_speed} km/h, Humidity: {humidity}%\")\n",
        "        print(f\"Calculated tw: {tw}\")\n",
        "        print(f\"Weather Condition: {condition}\")\n",
        "    except FileNotFoundError:\n",
        "        print(f\"File {file_path} not found.\")\n",
        "    except ValueError as e:\n",
        "        print(f\"Error processing the file: {e}\")\n",
        "\n",
        "def enter_values(file_path):\n",
        "    try:\n",
        "        date_str = input(\"Enter the date (DD-MM-YYYY): \")\n",
        "        temperature = float(input(\"Enter the temperature (°C): \"))\n",
        "        wind_speed = float(input(\"Enter the wind speed (km/h): \"))\n",
        "        humidity = float(input(\"Enter the humidity (%): \"))\n",
        "        tw = calculate_tw(temperature, wind_speed, humidity)\n",
        "        condition = classify_weather(tw)\n",
        "\n",
        "        print(f\"\\nCalculated tw: {tw}\")\n",
        "        print(f\"Weather Condition: {condition}\")\n",
        "\n",
        "        new_row = {\n",
        "            'Date': date_str,\n",
        "            'Temperature': temperature,\n",
        "            'Wind Speed': wind_speed,\n",
        "            'Humidity': humidity,\n",
        "            'Calculated tw': tw,\n",
        "            'Weather Condition': condition\n",
        "        }\n",
        "\n",
        "        try:\n",
        "            df = pd.read_excel(file_path)\n",
        "        except FileNotFoundError:\n",
        "            df = pd.DataFrame(columns=['Date', 'Temperature', 'Wind Speed', 'Humidity', 'Calculated tw', 'Weather Condition'])\n",
        "\n",
        "        df = df.append(new_row, ignore_index=True)\n",
        "        df.to_excel(file_path, index=False)\n",
        "        print(f\"Data saved to {file_path}\")\n",
        "    except ValueError as e:\n",
        "        print(f\"Error entering values: {e}\")\n",
        "\n",
        "def main():\n",
        "    file_path = 'weather.xlsx'\n",
        "    print(\"Choose an option:\")\n",
        "    print(\"0: Read values from an existing file\")\n",
        "    print(\"1: Enter new values to save to the file\")\n",
        "    choice = input(\"Enter your choice (0/1): \")\n",
        "\n",
        "    if choice == '0':\n",
        "        date_str = input(\"Enter the date (DD-MM-YYYY): \")\n",
        "        read_from_file(file_path, date_str)\n",
        "    elif choice == '1':\n",
        "        enter_values(file_path)\n",
        "    else:\n",
        "        print(\"Invalid choice. Please enter 0 or 1.\")\n",
        "\n",
        "if __name__ == \"__main__\":\n",
        "    main()\n"
      ]
    }
  ],
  "metadata": {
    "colab": {
      "provenance": [],
      "authorship_tag": "ABX9TyMyIu6AtTUTJ3LLbK1PPQu2",
      "include_colab_link": true
    },
    "kernelspec": {
      "display_name": "Python 3",
      "name": "python3"
    },
    "language_info": {
      "name": "python"
    }
  },
  "nbformat": 4,
  "nbformat_minor": 0
}